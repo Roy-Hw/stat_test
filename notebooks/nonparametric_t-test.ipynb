{
 "cells": [
  {
   "cell_type": "code",
   "execution_count": null,
   "metadata": {},
   "outputs": [],
   "source": [
    "import numpy as np\n",
    "from scipy.stats import wilcoxon\n",
    "from scipy.stats import mannwhitneyu"
   ]
  },
  {
   "cell_type": "markdown",
   "metadata": {},
   "source": [
    "### 단일표본 Wilcoxon Signed-Rank Test"
   ]
  },
  {
   "cell_type": "code",
   "execution_count": 3,
   "metadata": {},
   "outputs": [
    {
     "name": "stdout",
     "output_type": "stream",
     "text": [
      "Wilcoxon Signed-Rank Test (양측 검정):\n",
      "Statistic: 137.000, p-value: 0.726\n",
      "\n",
      "Wilcoxon Signed-Rank Test (오른쪽 단측 검정):\n",
      "Statistic: 137.000, p-value: 0.648\n",
      "\n",
      "Wilcoxon Signed-Rank Test (왼쪽 단측 검정):\n",
      "Statistic: 137.000, p-value: 0.363\n"
     ]
    }
   ],
   "source": [
    "from scipy.stats import wilcoxon\n",
    "import numpy as np\n",
    "\n",
    "# 단일 표본 준비 (기준값 31000과 비교)\n",
    "np.random.seed(39)  # 재현성을 위한 시드 설정\n",
    "group1 = np.random.randint(27000, 35000, size=24)  # 27000에서 35000 사이의 정수 표본, 24개 샘플\n",
    "alpha = 0.05  # 유의수준 설정\n",
    "compare_value = 31000  # 기준 값\n",
    "\n",
    "# 차이 계산\n",
    "differences = group1 - compare_value\n",
    "\n",
    "# Wilcoxon Signed-Rank Test\n",
    "stat, p_value = wilcoxon(differences, alternative='two-sided')\n",
    "print(\"Wilcoxon Signed-Rank Test (양측 검정):\")\n",
    "print(f\"Statistic: {stat:.3f}, p-value: {p_value:.3f}\")\n",
    "\n",
    "# 오른쪽 단측 검정\n",
    "stat, p_value = wilcoxon(differences, alternative='greater')\n",
    "print(\"\\nWilcoxon Signed-Rank Test (오른쪽 단측 검정):\")\n",
    "print(f\"Statistic: {stat:.3f}, p-value: {p_value:.3f}\")\n",
    "\n",
    "# 왼쪽 단측 검정\n",
    "stat, p_value = wilcoxon(differences, alternative='less')\n",
    "print(\"\\nWilcoxon Signed-Rank Test (왼쪽 단측 검정):\")\n",
    "print(f\"Statistic: {stat:.3f}, p-value: {p_value:.3f}\")"
   ]
  },
  {
   "cell_type": "markdown",
   "metadata": {},
   "source": [
    "### 독립표본 Mann-Whitney U Test"
   ]
  },
  {
   "cell_type": "code",
   "execution_count": 4,
   "metadata": {},
   "outputs": [
    {
     "name": "stdout",
     "output_type": "stream",
     "text": [
      "Mann-Whitney U Test (양측 검정):\n",
      "Statistic: 203.000, p-value: 0.081\n",
      "\n",
      "Mann-Whitney U Test (오른쪽 단측 검정):\n",
      "Statistic: 203.000, p-value: 0.961\n",
      "\n",
      "Mann-Whitney U Test (왼쪽 단측 검정):\n",
      "Statistic: 203.000, p-value: 0.041\n"
     ]
    }
   ],
   "source": [
    "from scipy.stats import mannwhitneyu\n",
    "import numpy as np\n",
    "\n",
    "# 두 개의 독립 표본 준비\n",
    "np.random.seed(39)  # 재현성을 위한 시드 설정\n",
    "group1 = np.random.randint(27000, 35000, size=24)  # 27000에서 35000 사이의 정수 표본, 24개 샘플\n",
    "group2 = np.random.randint(28000, 36000, size=24)  # 28000에서 36000 사이의 정수 표본, 24개 샘플\n",
    "\n",
    "# 만-휘트니 U 검정\n",
    "stat, p_value = mannwhitneyu(group1, group2, alternative='two-sided')\n",
    "print(\"Mann-Whitney U Test (양측 검정):\")\n",
    "print(f\"Statistic: {stat:.3f}, p-value: {p_value:.3f}\")\n",
    "\n",
    "# 오른쪽 단측 검정\n",
    "stat, p_value = mannwhitneyu(group1, group2, alternative='greater')\n",
    "print(\"\\nMann-Whitney U Test (오른쪽 단측 검정):\")\n",
    "print(f\"Statistic: {stat:.3f}, p-value: {p_value:.3f}\")\n",
    "\n",
    "# 왼쪽 단측 검정\n",
    "stat, p_value = mannwhitneyu(group1, group2, alternative='less')\n",
    "print(\"\\nMann-Whitney U Test (왼쪽 단측 검정):\")\n",
    "print(f\"Statistic: {stat:.3f}, p-value: {p_value:.3f}\")"
   ]
  },
  {
   "cell_type": "markdown",
   "metadata": {},
   "source": [
    "### 대응 표본 Wilcoxon Signed-Rank Test"
   ]
  },
  {
   "cell_type": "code",
   "execution_count": 5,
   "metadata": {},
   "outputs": [
    {
     "name": "stdout",
     "output_type": "stream",
     "text": [
      "Wilcoxon Signed-Rank Test (양측 검정):\n",
      "Statistic: 85.000, p-value: 0.065\n",
      "\n",
      "Wilcoxon Signed-Rank Test (오른쪽 단측 검정):\n",
      "Statistic: 215.000, p-value: 0.032\n",
      "\n",
      "Wilcoxon Signed-Rank Test (왼쪽 단측 검정):\n",
      "Statistic: 215.000, p-value: 0.970\n"
     ]
    }
   ],
   "source": [
    "from scipy.stats import wilcoxon\n",
    "import numpy as np\n",
    "\n",
    "# 대응 표본 준비\n",
    "np.random.seed(39)  # 재현성을 위한 시드 설정\n",
    "group1 = np.random.randint(27000, 35000, size=24)  # 27000에서 35000 사이의 정수 표본, 24개 샘플\n",
    "group2 = np.random.randint(28000, 36000, size=24)  # 28000에서 36000 사이의 정수 표본, 24개 샘플\n",
    "\n",
    "# 차이 계산\n",
    "differences = group2 - group1\n",
    "\n",
    "# 윌콕슨 부호 순위 검정\n",
    "stat, p_value = wilcoxon(differences, alternative='two-sided')\n",
    "print(\"Wilcoxon Signed-Rank Test (양측 검정):\")\n",
    "print(f\"Statistic: {stat:.3f}, p-value: {p_value:.3f}\")\n",
    "\n",
    "# 오른쪽 단측 검정\n",
    "stat, p_value = wilcoxon(differences, alternative='greater')\n",
    "print(\"\\nWilcoxon Signed-Rank Test (오른쪽 단측 검정):\")\n",
    "print(f\"Statistic: {stat:.3f}, p-value: {p_value:.3f}\")\n",
    "\n",
    "# 왼쪽 단측 검정\n",
    "stat, p_value = wilcoxon(differences, alternative='less')\n",
    "print(\"\\nWilcoxon Signed-Rank Test (왼쪽 단측 검정):\")\n",
    "print(f\"Statistic: {stat:.3f}, p-value: {p_value:.3f}\")"
   ]
  },
  {
   "cell_type": "markdown",
   "metadata": {},
   "source": [
    "### 대응 표본 Sign Test"
   ]
  },
  {
   "cell_type": "code",
   "execution_count": 9,
   "metadata": {},
   "outputs": [
    {
     "name": "stdout",
     "output_type": "stream",
     "text": [
      "Sign Test (양측 검정):\n",
      "Positive Count: 16, Negative Count: 8, p-value: 0.152\n",
      "\n",
      "Sign Test (오른쪽 단측 검정):\n",
      "Positive Count: 16, p-value: 0.968\n",
      "\n",
      "Sign Test (왼쪽 단측 검정):\n",
      "Negative Count: 8, p-value: 0.076\n"
     ]
    }
   ],
   "source": [
    "from scipy.stats import binom\n",
    "import numpy as np\n",
    "\n",
    "# 대응 표본 준비\n",
    "np.random.seed(39)  # 재현성을 위한 시드 설정\n",
    "group1 = np.random.randint(27000, 35000, size=24)  # 27000에서 35000 사이의 정수 표본, 24개 샘플\n",
    "group2 = np.random.randint(28000, 36000, size=24)  # 28000에서 36000 사이의 정수 표본, 24개 샘플\n",
    "\n",
    "# 차이 계산\n",
    "differences = group2 - group1\n",
    "\n",
    "# 차이가 0인 값 제외하고 + / - 개수 계산\n",
    "positive = np.sum(differences > 0)\n",
    "negative = np.sum(differences < 0)\n",
    "n = positive + negative  # 차이가 0인 값은 제외\n",
    "\n",
    "# 양측 부호 검정 p-value 계산\n",
    "# 양측 검정은 'positive'와 'negative' 부호의 합을 기준으로 검정\n",
    "p_value_two_sided = 2 * min(binom.cdf(positive, n, 0.5), 1 - binom.cdf(positive - 1, n, 0.5))\n",
    "print(\"Sign Test (양측 검정):\")\n",
    "print(f\"Positive Count: {positive}, Negative Count: {negative}, p-value: {p_value_two_sided:.3f}\")\n",
    "\n",
    "# 오른쪽 단측 검정 p-value 계산 (기준값보다 크다)\n",
    "p_value_right = binom.cdf(positive, n, 0.5)  # 오른쪽 단측 검정\n",
    "print(\"\\nSign Test (오른쪽 단측 검정):\")\n",
    "print(f\"Positive Count: {positive}, p-value: {p_value_right:.3f}\")\n",
    "\n",
    "# 왼쪽 단측 검정 p-value 계산 (기준값보다 작다)\n",
    "p_value_left = binom.cdf(negative, n, 0.5)  # 왼쪽 단측 검정\n",
    "print(\"\\nSign Test (왼쪽 단측 검정):\")\n",
    "print(f\"Negative Count: {negative}, p-value: {p_value_left:.3f}\")"
   ]
  },
  {
   "cell_type": "code",
   "execution_count": null,
   "metadata": {},
   "outputs": [],
   "source": []
  }
 ],
 "metadata": {
  "kernelspec": {
   "display_name": "Python 3",
   "language": "python",
   "name": "python3"
  },
  "language_info": {
   "codemirror_mode": {
    "name": "ipython",
    "version": 3
   },
   "file_extension": ".py",
   "mimetype": "text/x-python",
   "name": "python",
   "nbconvert_exporter": "python",
   "pygments_lexer": "ipython3",
   "version": "3.10.10"
  }
 },
 "nbformat": 4,
 "nbformat_minor": 2
}
